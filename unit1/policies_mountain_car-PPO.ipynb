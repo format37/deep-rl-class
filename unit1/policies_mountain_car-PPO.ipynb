{
 "cells": [
  {
   "cell_type": "code",
   "execution_count": null,
   "id": "906bd79e",
   "metadata": {},
   "outputs": [],
   "source": [
    "# https://github.com/huggingface/deep-rl-class/blob/main/unit1/unit1.ipynb"
   ]
  },
  {
   "cell_type": "code",
   "execution_count": 1,
   "id": "5d1303fb",
   "metadata": {},
   "outputs": [
    {
     "name": "stderr",
     "output_type": "stream",
     "text": [
      "2022-10-12 21:13:51.881109: I tensorflow/stream_executor/platform/default/dso_loader.cc:49] Successfully opened dynamic library libcudart.so.10.1\n"
     ]
    }
   ],
   "source": [
    "from datetime import datetime as dt\n",
    "# Virtual display\n",
    "from pyvirtualdisplay import Display\n",
    "import gym\n",
    "from huggingface_sb3 import load_from_hub, package_to_hub, push_to_hub\n",
    "from huggingface_hub import notebook_login # To log to our Hugging Face account to be able to upload models to the Hub.\n",
    "from stable_baselines3 import A2C, DDPG, DQN, HER, PPO, SAC, TD3\n",
    "from stable_baselines3.common.evaluation import evaluate_policy\n",
    "from stable_baselines3.common.env_util import make_vec_env\n",
    "from stable_baselines3.common.env_util import make_vec_env\n",
    "import stable_baselines3\n",
    "import numpy as np"
   ]
  },
  {
   "cell_type": "code",
   "execution_count": 2,
   "id": "faca76b9",
   "metadata": {},
   "outputs": [],
   "source": [
    "#from stable_baselines.deepq import DQNsl"
   ]
  },
  {
   "cell_type": "code",
   "execution_count": 3,
   "id": "0b07b336",
   "metadata": {},
   "outputs": [
    {
     "data": {
      "text/plain": [
       "<pyvirtualdisplay.display.Display at 0x7f2e443e8310>"
      ]
     },
     "execution_count": 3,
     "metadata": {},
     "output_type": "execute_result"
    }
   ],
   "source": [
    "virtual_display = Display(visible=0, size=(1400, 900))\n",
    "virtual_display.start()"
   ]
  },
  {
   "cell_type": "code",
   "execution_count": 4,
   "id": "485347d7",
   "metadata": {},
   "outputs": [
    {
     "data": {
      "text/plain": [
       "device(type='cuda')"
      ]
     },
     "execution_count": 4,
     "metadata": {},
     "output_type": "execute_result"
    }
   ],
   "source": [
    "# Create environment\n",
    "env = gym.make('MountainCar-v0')\n",
    "stable_baselines3.common.utils.get_device()"
   ]
  },
  {
   "cell_type": "code",
   "execution_count": 5,
   "id": "8dbbd9cc",
   "metadata": {},
   "outputs": [],
   "source": [
    "def get_seed():\n",
    "    np.random.seed()\n",
    "    return np.random.randint(0, 2**32)"
   ]
  },
  {
   "cell_type": "code",
   "execution_count": 6,
   "id": "0540f557",
   "metadata": {},
   "outputs": [],
   "source": [
    "def train(model, seed, name_postfix):\n",
    "    print(dt.now())\n",
    "    model.learn(total_timesteps=5000000, tb_log_name=\"first_run_\"+name_postfix)\n",
    "    print(dt.now())\n",
    "    # Save the model\n",
    "    model_name = \"ppo-MountainCar-v0_\"+name_postfix\n",
    "    model.save(model_name)\n",
    "\n",
    "    #@title\n",
    "    eval_env = gym.make(\"MountainCar-v0\")\n",
    "    mean_reward, std_reward = evaluate_policy(model, eval_env, n_eval_episodes=10, deterministic=True)\n",
    "    print(f\"mean_reward={mean_reward:.2f} +/- {std_reward}\")"
   ]
  },
  {
   "cell_type": "code",
   "execution_count": 7,
   "id": "5e9ae332",
   "metadata": {},
   "outputs": [],
   "source": [
    "log_dir = \"./logs2/\""
   ]
  },
  {
   "cell_type": "code",
   "execution_count": 8,
   "id": "bcbccc8c",
   "metadata": {},
   "outputs": [],
   "source": [
    "seed = get_seed()"
   ]
  },
  {
   "cell_type": "code",
   "execution_count": null,
   "id": "843752ba",
   "metadata": {},
   "outputs": [
    {
     "name": "stdout",
     "output_type": "stream",
     "text": [
      "2022-10-12 21:04:24.546188\n"
     ]
    }
   ],
   "source": [
    "model_A2C_Mlp = A2C(\n",
    "    policy = 'MlpPolicy',\n",
    "    env = env,    \n",
    "    tensorboard_log=log_dir,    \n",
    "    verbose=0,\n",
    "    seed=seed,\n",
    "    device='cuda'\n",
    ")\n",
    "train(model_A2C_Mlp, seed, 'A2C-Mlp')"
   ]
  },
  {
   "cell_type": "markdown",
   "id": "f611cf7b",
   "metadata": {},
   "source": [
    "```\n",
    "# X #\n",
    "model_DDPG = DDPG(\n",
    "    policy = 'MlpPolicy',\n",
    "    env = env,    \n",
    "    tensorboard_log=log_dir,    \n",
    "    verbose=0,\n",
    "    seed=seed,\n",
    "    device='cuda'\n",
    ")\n",
    "train(model_DDPG, seed, 'DDPG-Mlp')\n",
    "```"
   ]
  },
  {
   "cell_type": "code",
   "execution_count": null,
   "id": "6b45c5dc",
   "metadata": {},
   "outputs": [],
   "source": [
    "model_DQN = DQN(\n",
    "        policy=\"MlpPolicy\",\n",
    "        env=env,\n",
    "        learning_rate=1e-3,\n",
    "        buffer_size=50000,\n",
    "        exploration_fraction=0.1,\n",
    "        exploration_final_eps=0.1,\n",
    "        #param_noise=True,\n",
    "        #policy_kwargs=dict(layers=[64])\n",
    "    )\n",
    "train(model_DQN, seed, 'DQN-Mlp')"
   ]
  },
  {
   "cell_type": "markdown",
   "id": "13853d81",
   "metadata": {},
   "source": [
    "```\n",
    "# X #\n",
    "model_HER = HER(\n",
    "    policy = 'MlpPolicy',\n",
    "    env = env,    \n",
    "    tensorboard_log=log_dir,    \n",
    "    verbose=0,\n",
    "    seed=seed,\n",
    "    device='cuda'\n",
    ")\n",
    "train(model_HER, seed, 'HER-Mlp')\n",
    "```"
   ]
  },
  {
   "cell_type": "code",
   "execution_count": 9,
   "id": "1699597b",
   "metadata": {},
   "outputs": [
    {
     "name": "stdout",
     "output_type": "stream",
     "text": [
      "2022-10-12 21:14:04.682616\n",
      "2022-10-13 00:10:56.743365\n"
     ]
    },
    {
     "name": "stderr",
     "output_type": "stream",
     "text": [
      "/home/alex/anaconda3/envs/deep-rl-class/lib/python3.9/site-packages/stable_baselines3/common/evaluation.py:65: UserWarning: Evaluation environment is not wrapped with a ``Monitor`` wrapper. This may result in reporting modified episode lengths and rewards, if other wrappers happen to modify these. Consider wrapping environment first with ``Monitor`` wrapper.\n",
      "  warnings.warn(\n"
     ]
    },
    {
     "name": "stdout",
     "output_type": "stream",
     "text": [
      "mean_reward=-147.80 +/- 6.19354502688081\n"
     ]
    }
   ],
   "source": [
    "model_PPO_MLP = PPO(\n",
    "    policy = 'MlpPolicy',\n",
    "    env = env,    \n",
    "    tensorboard_log=log_dir,    \n",
    "    verbose=0,\n",
    "    seed=seed,\n",
    "    device='cuda'\n",
    ")\n",
    "train(model_PPO_MLP, seed, 'PPO-Mlp')"
   ]
  },
  {
   "cell_type": "markdown",
   "id": "82372de1",
   "metadata": {},
   "source": [
    "```\n",
    "# X #\n",
    "model_SAC = SAC(\n",
    "    policy = 'MlpPolicy',\n",
    "    env = env,    \n",
    "    tensorboard_log=log_dir,    \n",
    "    verbose=0,\n",
    "    seed=seed,\n",
    "    device='cuda'\n",
    ")\n",
    "train(model_SAC, seed, 'SAC-Mlp')\n",
    "```"
   ]
  },
  {
   "cell_type": "markdown",
   "id": "7a2a0869",
   "metadata": {},
   "source": [
    "```\n",
    "# X #\n",
    "model_TD3 = TD3(\n",
    "    policy = 'MlpPolicy',\n",
    "    env = env,    \n",
    "    tensorboard_log=log_dir,    \n",
    "    verbose=0,\n",
    "    seed=seed,\n",
    "    device='cuda'\n",
    ")\n",
    "train(model_TD3, seed, 'TD3-Mlp')\n",
    "```"
   ]
  },
  {
   "cell_type": "markdown",
   "id": "243b401e",
   "metadata": {},
   "source": [
    "### Publish our trained model on the Hub"
   ]
  },
  {
   "cell_type": "code",
   "execution_count": 10,
   "id": "c44f18cc",
   "metadata": {},
   "outputs": [
    {
     "name": "stdout",
     "output_type": "stream",
     "text": [
      "Login successful\n",
      "Your token has been saved to /home/alex/.huggingface/token\n"
     ]
    }
   ],
   "source": [
    "notebook_login()"
   ]
  },
  {
   "cell_type": "code",
   "execution_count": 11,
   "id": "71565109",
   "metadata": {},
   "outputs": [],
   "source": [
    "!git config --global credential.helper store"
   ]
  },
  {
   "cell_type": "code",
   "execution_count": 12,
   "id": "bb957176",
   "metadata": {},
   "outputs": [],
   "source": [
    "import gym\n",
    "\n",
    "from stable_baselines3 import PPO\n",
    "from stable_baselines3.common.vec_env import DummyVecEnv\n",
    "from stable_baselines3.common.env_util import make_vec_env\n",
    "\n",
    "from huggingface_sb3 import package_to_hub"
   ]
  },
  {
   "cell_type": "code",
   "execution_count": 14,
   "id": "75c4d79f",
   "metadata": {},
   "outputs": [],
   "source": [
    "# PLACE the variables you've just defined two cells above\n",
    "# Define the name of the environment\n",
    "env_id = \"MountainCar-v0\"\n",
    "\n",
    "# TODO: Define the model architecture we used\n",
    "model_architecture = \"PPO\"\n",
    "\n",
    "## Define a repo_id\n",
    "## repo_id is the id of the model repository from the Hugging Face Hub (repo_id = {organization}/{repo_name} for instance ThomasSimonini/ppo-LunarLander-v2\n",
    "## CHANGE WITH YOUR REPO ID\n",
    "repo_id = \"format37/PPO-MountainCar-v0\"\n",
    "\n",
    "## Define the commit message\n",
    "commit_message = \"Upload PPO MountainCar-v0 trained agent\"\n",
    "\n",
    "# Create the evaluation env\n",
    "eval_env = DummyVecEnv([lambda: gym.make(env_id)])"
   ]
  },
  {
   "cell_type": "code",
   "execution_count": 15,
   "id": "68f0e21d",
   "metadata": {},
   "outputs": [],
   "source": [
    "model_name = 'PPO-Mlp'"
   ]
  },
  {
   "cell_type": "code",
   "execution_count": 16,
   "id": "f9acd129",
   "metadata": {},
   "outputs": [
    {
     "name": "stdout",
     "output_type": "stream",
     "text": [
      "\u001b[38;5;4mℹ This function will save, evaluate, generate a video of your agent,\n",
      "create a model card and push everything to the hub. It might take up to 1min.\n",
      "This is a work in progress: If you encounter a bug, please open an issue and use\n",
      "push_to_hub instead.\u001b[0m\n"
     ]
    },
    {
     "name": "stderr",
     "output_type": "stream",
     "text": [
      "/home/alex/anaconda3/envs/deep-rl-class/lib/python3.9/site-packages/huggingface_hub/hf_api.py:79: FutureWarning: `name` and `organization` input arguments are deprecated and will be removed in v0.7. Pass `repo_id` instead.\n",
      "  warnings.warn(\n",
      "Cloning https://huggingface.co/format37/PPO-MountainCar-v0 into local empty directory.\n",
      "/home/alex/anaconda3/envs/deep-rl-class/lib/python3.9/site-packages/stable_baselines3/common/evaluation.py:65: UserWarning: Evaluation environment is not wrapped with a ``Monitor`` wrapper. This may result in reporting modified episode lengths and rewards, if other wrappers happen to modify these. Consider wrapping environment first with ``Monitor`` wrapper.\n",
      "  warnings.warn(\n"
     ]
    },
    {
     "name": "stdout",
     "output_type": "stream",
     "text": [
      "Saving video to /home/alex/projects/deep-rl-class/unit1/-step-0-to-step-1000.mp4\n"
     ]
    },
    {
     "name": "stderr",
     "output_type": "stream",
     "text": [
      "ffmpeg version 4.4.1 Copyright (c) 2000-2021 the FFmpeg developers\n",
      "  built with gcc 9.4.0 (GCC)\n",
      "  configuration: --prefix=/home/alex/anaconda3/envs/pycuda --cc=/home/conda/feedstock_root/build_artifacts/ffmpeg_1636205340875/_build_env/bin/x86_64-conda-linux-gnu-cc --disable-doc --disable-openssl --enable-avresample --enable-demuxer=dash --enable-gnutls --enable-gpl --enable-hardcoded-tables --enable-libfreetype --enable-libopenh264 --enable-vaapi --enable-libx264 --enable-libx265 --enable-libaom --enable-libsvtav1 --enable-libxml2 --enable-libvpx --enable-pic --enable-pthreads --enable-shared --disable-static --enable-version3 --enable-zlib --enable-libmp3lame --pkg-config=/home/conda/feedstock_root/build_artifacts/ffmpeg_1636205340875/_build_env/bin/pkg-config\n",
      "  libavutil      56. 70.100 / 56. 70.100\n",
      "  libavcodec     58.134.100 / 58.134.100\n",
      "  libavformat    58. 76.100 / 58. 76.100\n",
      "  libavdevice    58. 13.100 / 58. 13.100\n",
      "  libavfilter     7.110.100 /  7.110.100\n",
      "  libavresample   4.  0.  0 /  4.  0.  0\n",
      "  libswscale      5.  9.100 /  5.  9.100\n",
      "  libswresample   3.  9.100 /  3.  9.100\n",
      "  libpostproc    55.  9.100 / 55.  9.100\n",
      "Input #0, mov,mp4,m4a,3gp,3g2,mj2, from './test.mp4':\n",
      "  Metadata:\n",
      "    major_brand     : isom\n",
      "    minor_version   : 512\n",
      "    compatible_brands: isomiso2avc1mp41\n",
      "    encoder         : Lavf58.76.100\n",
      "  Duration: 00:00:33.37, start: 0.000000, bitrate: 59 kb/s\n",
      "  Stream #0:0(und): Video: h264 (High) (avc1 / 0x31637661), yuv420p, 600x400, 56 kb/s, 30 fps, 30 tbr, 15360 tbn, 60 tbc (default)\n",
      "    Metadata:\n",
      "      handler_name    : VideoHandler\n",
      "      vendor_id       : [0][0][0][0]\n",
      "Stream mapping:\n",
      "  Stream #0:0 -> #0:0 (h264 (native) -> h264 (libx264))\n",
      "Press [q] to stop, [?] for help\n",
      "[libx264 @ 0x55da15771bc0] using cpu capabilities: MMX2 SSE2Fast SSSE3 SSE4.2 AVX FMA3 BMI2 AVX2\n",
      "[libx264 @ 0x55da15771bc0] profile High, level 3.0, 4:2:0, 8-bit\n",
      "[libx264 @ 0x55da15771bc0] 264 - core 161 r3030M 8bd6d28 - H.264/MPEG-4 AVC codec - Copyleft 2003-2020 - http://www.videolan.org/x264.html - options: cabac=1 ref=3 deblock=1:0:0 analyse=0x3:0x113 me=hex subme=7 psy=1 psy_rd=1.00:0.00 mixed_ref=1 me_range=16 chroma_me=1 trellis=1 8x8dct=1 cqm=0 deadzone=21,11 fast_pskip=1 chroma_qp_offset=-2 threads=12 lookahead_threads=2 sliced_threads=0 nr=0 decimate=1 interlaced=0 bluray_compat=0 constrained_intra=0 bframes=3 b_pyramid=2 b_adapt=1 b_bias=0 direct=1 weightb=1 open_gop=0 weightp=2 keyint=250 keyint_min=25 scenecut=40 intra_refresh=0 rc_lookahead=40 rc=crf mbtree=1 crf=23.0 qcomp=0.60 qpmin=0 qpmax=69 qpstep=4 ip_ratio=1.40 aq=1:1.00\n",
      "Output #0, mp4, to 'replay.mp4':\n",
      "  Metadata:\n",
      "    major_brand     : isom\n",
      "    minor_version   : 512\n",
      "    compatible_brands: isomiso2avc1mp41\n",
      "    encoder         : Lavf58.76.100\n",
      "  Stream #0:0(und): Video: h264 (avc1 / 0x31637661), yuv420p(progressive), 600x400, q=2-31, 30 fps, 15360 tbn (default)\n",
      "    Metadata:\n",
      "      handler_name    : VideoHandler\n",
      "      vendor_id       : [0][0][0][0]\n",
      "      encoder         : Lavc58.134.100 libx264\n",
      "    Side data:\n",
      "      cpb: bitrate max/min/avg: 0/0/0 buffer size: 0 vbv_delay: N/A\n",
      "frame= 1001 fps=0.0 q=-1.0 Lsize=     242kB time=00:00:33.26 bitrate=  59.6kbits/s speed=33.3x    \n",
      "video:231kB audio:0kB subtitle:0kB other streams:0kB global headers:0kB muxing overhead: 4.893360%\n",
      "[libx264 @ 0x55da15771bc0] frame I:5     Avg QP:17.08  size:  4317\n",
      "[libx264 @ 0x55da15771bc0] frame P:465   Avg QP:17.09  size:   282\n",
      "[libx264 @ 0x55da15771bc0] frame B:531   Avg QP:21.05  size:   156\n",
      "[libx264 @ 0x55da15771bc0] consecutive B-frames: 20.4% 21.2% 16.5% 42.0%\n",
      "[libx264 @ 0x55da15771bc0] mb I  I16..4: 32.4% 58.8%  8.9%\n",
      "[libx264 @ 0x55da15771bc0] mb P  I16..4:  0.1%  0.1%  0.1%  P16..4:  0.5%  0.4%  0.3%  0.0%  0.0%    skip:98.5%\n",
      "[libx264 @ 0x55da15771bc0] mb B  I16..4:  0.0%  0.0%  0.0%  B16..8:  0.9%  0.4%  0.3%  direct: 0.1%  skip:98.3%  L0:49.9% L1:44.9% BI: 5.3%\n",
      "[libx264 @ 0x55da15771bc0] 8x8 transform intra:56.0% inter:1.7%\n",
      "[libx264 @ 0x55da15771bc0] coded y,uvDC,uvAC intra: 8.9% 0.2% 0.2% inter: 0.4% 0.0% 0.0%\n",
      "[libx264 @ 0x55da15771bc0] i16 v,h,dc,p: 83%  3% 13%  0%\n",
      "[libx264 @ 0x55da15771bc0] i8 v,h,dc,ddl,ddr,vr,hd,vl,hu: 47% 14% 39%  0%  0%  0%  0%  0%  0%\n",
      "[libx264 @ 0x55da15771bc0] i4 v,h,dc,ddl,ddr,vr,hd,vl,hu: 21% 16% 37%  8%  5%  3%  3%  3%  3%\n",
      "[libx264 @ 0x55da15771bc0] i8c dc,h,v,p: 100%  0%  0%  0%\n",
      "[libx264 @ 0x55da15771bc0] Weighted P-Frames: Y:0.0% UV:0.0%\n",
      "[libx264 @ 0x55da15771bc0] ref P L0: 64.6%  8.9% 16.0% 10.6%\n",
      "[libx264 @ 0x55da15771bc0] ref B L0: 78.4% 17.7%  3.9%\n",
      "[libx264 @ 0x55da15771bc0] ref B L1: 96.4%  3.6%\n",
      "[libx264 @ 0x55da15771bc0] kb/s:56.51\n"
     ]
    },
    {
     "name": "stdout",
     "output_type": "stream",
     "text": [
      "\u001b[38;5;4mℹ Pushing repo PPO-MountainCar-v0 to the Hugging Face Hub\u001b[0m\n"
     ]
    },
    {
     "data": {
      "application/vnd.jupyter.widget-view+json": {
       "model_id": "483ce14d40c94eaca94481cfd0269c4e",
       "version_major": 2,
       "version_minor": 0
      },
      "text/plain": [
       "Upload file replay.mp4:  13%|#3        | 32.0k/242k [00:00<?, ?B/s]"
      ]
     },
     "metadata": {},
     "output_type": "display_data"
    },
    {
     "data": {
      "application/vnd.jupyter.widget-view+json": {
       "model_id": "937a691dc74644499ca58fb01118819f",
       "version_major": 2,
       "version_minor": 0
      },
      "text/plain": [
       "Upload file PPO-Mlp.zip:  24%|##3       | 32.0k/134k [00:00<?, ?B/s]"
      ]
     },
     "metadata": {},
     "output_type": "display_data"
    },
    {
     "data": {
      "application/vnd.jupyter.widget-view+json": {
       "model_id": "f14ca689cdcd4dbe94fa02112acaf153",
       "version_major": 2,
       "version_minor": 0
      },
      "text/plain": [
       "Upload file PPO-Mlp/policy.optimizer.pth:  41%|####1     | 32.0k/77.4k [00:00<?, ?B/s]"
      ]
     },
     "metadata": {},
     "output_type": "display_data"
    },
    {
     "data": {
      "application/vnd.jupyter.widget-view+json": {
       "model_id": "1991e99594c24dbe949564d231c71912",
       "version_major": 2,
       "version_minor": 0
      },
      "text/plain": [
       "Upload file PPO-Mlp/pytorch_variables.pth: 100%|##########| 431/431 [00:00<?, ?B/s]"
      ]
     },
     "metadata": {},
     "output_type": "display_data"
    },
    {
     "data": {
      "application/vnd.jupyter.widget-view+json": {
       "model_id": "b8879ee825bc40049a043674427e73d0",
       "version_major": 2,
       "version_minor": 0
      },
      "text/plain": [
       "Upload file PPO-Mlp/policy.pth:  80%|########  | 32.0k/39.8k [00:00<?, ?B/s]"
      ]
     },
     "metadata": {},
     "output_type": "display_data"
    },
    {
     "name": "stderr",
     "output_type": "stream",
     "text": [
      "remote: Scanning LFS files for validity, may be slow...        \n",
      "remote: LFS file scan complete.        \n",
      "To https://huggingface.co/format37/PPO-MountainCar-v0\n",
      "   0b67df1..f23e9d6  main -> main\n",
      "\n"
     ]
    },
    {
     "name": "stdout",
     "output_type": "stream",
     "text": [
      "\u001b[38;5;4mℹ Your model is pushed to the hub. You can view your model here:\n",
      "https://huggingface.co/format37/PPO-MountainCar-v0\u001b[0m\n"
     ]
    },
    {
     "data": {
      "text/plain": [
       "'https://huggingface.co/format37/PPO-MountainCar-v0'"
      ]
     },
     "execution_count": 16,
     "metadata": {},
     "output_type": "execute_result"
    }
   ],
   "source": [
    "# PLACE the package_to_hub function you've just filled here\n",
    "package_to_hub(model=model_PPO_MLP, # Our trained model\n",
    "               model_name=model_name, # The name of our trained model \n",
    "               model_architecture=model_architecture, # The model architecture we used: in our case PPO\n",
    "               env_id=env_id, # Name of the environment\n",
    "               eval_env=eval_env, # Evaluation Environment\n",
    "               repo_id=repo_id, # id of the model repository from the Hugging Face Hub (repo_id = {organization}/{repo_name} for instance ThomasSimonini/ppo-LunarLander-v2\n",
    "               commit_message=commit_message)"
   ]
  }
 ],
 "metadata": {
  "kernelspec": {
   "display_name": "deep-rl-class",
   "language": "python",
   "name": "deep-rl-class"
  },
  "language_info": {
   "codemirror_mode": {
    "name": "ipython",
    "version": 3
   },
   "file_extension": ".py",
   "mimetype": "text/x-python",
   "name": "python",
   "nbconvert_exporter": "python",
   "pygments_lexer": "ipython3",
   "version": "3.9.12"
  }
 },
 "nbformat": 4,
 "nbformat_minor": 5
}
