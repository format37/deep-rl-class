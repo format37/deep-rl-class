{
 "cells": [
  {
   "cell_type": "code",
   "execution_count": 1,
   "id": "906bd79e",
   "metadata": {},
   "outputs": [],
   "source": [
    "# https://github.com/huggingface/deep-rl-class/blob/main/unit1/unit1.ipynb"
   ]
  },
  {
   "cell_type": "code",
   "execution_count": 23,
   "id": "5d1303fb",
   "metadata": {},
   "outputs": [],
   "source": [
    "from datetime import datetime as dt\n",
    "# Virtual display\n",
    "from pyvirtualdisplay import Display\n",
    "import gym\n",
    "from huggingface_sb3 import load_from_hub, package_to_hub, push_to_hub\n",
    "from huggingface_hub import notebook_login # To log to our Hugging Face account to be able to upload models to the Hub.\n",
    "from stable_baselines3 import A2C, DDPG, DQN, HER, PPO, SAC, TD3\n",
    "from stable_baselines3.common.evaluation import evaluate_policy\n",
    "from stable_baselines3.common.env_util import make_vec_env\n",
    "from stable_baselines3.common.env_util import make_vec_env\n",
    "import stable_baselines3\n",
    "import numpy as np"
   ]
  },
  {
   "cell_type": "code",
   "execution_count": 24,
   "id": "faca76b9",
   "metadata": {},
   "outputs": [],
   "source": [
    "#from stable_baselines.deepq import DQNsl"
   ]
  },
  {
   "cell_type": "code",
   "execution_count": 3,
   "id": "0b07b336",
   "metadata": {},
   "outputs": [
    {
     "data": {
      "text/plain": [
       "<pyvirtualdisplay.display.Display at 0x7fcdb426b6a0>"
      ]
     },
     "execution_count": 3,
     "metadata": {},
     "output_type": "execute_result"
    }
   ],
   "source": [
    "virtual_display = Display(visible=0, size=(1400, 900))\n",
    "virtual_display.start()"
   ]
  },
  {
   "cell_type": "code",
   "execution_count": 4,
   "id": "485347d7",
   "metadata": {},
   "outputs": [
    {
     "data": {
      "text/plain": [
       "device(type='cuda')"
      ]
     },
     "execution_count": 4,
     "metadata": {},
     "output_type": "execute_result"
    }
   ],
   "source": [
    "# Create environment\n",
    "env = gym.make('MountainCar-v0')\n",
    "stable_baselines3.common.utils.get_device()"
   ]
  },
  {
   "cell_type": "code",
   "execution_count": 5,
   "id": "8dbbd9cc",
   "metadata": {},
   "outputs": [],
   "source": [
    "def get_seed():\n",
    "    np.random.seed()\n",
    "    return np.random.randint(0, 2**32)"
   ]
  },
  {
   "cell_type": "code",
   "execution_count": 28,
   "id": "0540f557",
   "metadata": {},
   "outputs": [],
   "source": [
    "def train(model, seed, name_postfix):\n",
    "    print(dt.now())\n",
    "    model.learn(total_timesteps=5000000, tb_log_name=\"first_run_\"+name_postfix)\n",
    "    print(dt.now())\n",
    "    # Save the model\n",
    "    model_name = \"ppo-MountainCar-v0_\"+name_postfix\n",
    "    model.save(model_name)\n",
    "\n",
    "    #@title\n",
    "    eval_env = gym.make(\"MountainCar-v0\")\n",
    "    mean_reward, std_reward = evaluate_policy(model, eval_env, n_eval_episodes=10, deterministic=True)\n",
    "    print(f\"mean_reward={mean_reward:.2f} +/- {std_reward}\")"
   ]
  },
  {
   "cell_type": "code",
   "execution_count": 7,
   "id": "5e9ae332",
   "metadata": {},
   "outputs": [],
   "source": [
    "log_dir = \"./logs/\""
   ]
  },
  {
   "cell_type": "code",
   "execution_count": 8,
   "id": "bcbccc8c",
   "metadata": {},
   "outputs": [],
   "source": [
    "seed = get_seed()"
   ]
  },
  {
   "cell_type": "code",
   "execution_count": 9,
   "id": "843752ba",
   "metadata": {},
   "outputs": [
    {
     "name": "stdout",
     "output_type": "stream",
     "text": [
      "2022-06-04 10:33:49.885924\n",
      "2022-06-04 10:55:15.886082\n"
     ]
    },
    {
     "name": "stderr",
     "output_type": "stream",
     "text": [
      "/home/alex/anaconda3/envs/deep-rl-class/lib/python3.9/site-packages/stable_baselines3/common/evaluation.py:65: UserWarning: Evaluation environment is not wrapped with a ``Monitor`` wrapper. This may result in reporting modified episode lengths and rewards, if other wrappers happen to modify these. Consider wrapping environment first with ``Monitor`` wrapper.\n",
      "  warnings.warn(\n"
     ]
    },
    {
     "name": "stdout",
     "output_type": "stream",
     "text": [
      "mean_reward=-200.00 +/- 0.0\n"
     ]
    }
   ],
   "source": [
    "model_A2C_Mlp = A2C(\n",
    "    policy = 'MlpPolicy',\n",
    "    env = env,    \n",
    "    tensorboard_log=log_dir,    \n",
    "    verbose=0,\n",
    "    seed=seed,\n",
    "    device='cuda'\n",
    ")\n",
    "train(model_A2C_Mlp, seed, 'A2C-Mlp')"
   ]
  },
  {
   "cell_type": "markdown",
   "id": "f611cf7b",
   "metadata": {},
   "source": [
    "```\n",
    "# X #\n",
    "model_DDPG = DDPG(\n",
    "    policy = 'MlpPolicy',\n",
    "    env = env,    \n",
    "    tensorboard_log=log_dir,    \n",
    "    verbose=0,\n",
    "    seed=seed,\n",
    "    device='cuda'\n",
    ")\n",
    "train(model_DDPG, seed, 'DDPG-Mlp')\n",
    "```"
   ]
  },
  {
   "cell_type": "code",
   "execution_count": 29,
   "id": "6b45c5dc",
   "metadata": {},
   "outputs": [
    {
     "name": "stdout",
     "output_type": "stream",
     "text": [
      "2022-06-04 13:32:04.001383\n",
      "2022-06-04 14:59:50.789286\n",
      "mean_reward=-200.00 +/- 0.0\n"
     ]
    }
   ],
   "source": [
    "model_DQN = DQN(\n",
    "        policy=\"MlpPolicy\",\n",
    "        env=env,\n",
    "        learning_rate=1e-3,\n",
    "        buffer_size=50000,\n",
    "        exploration_fraction=0.1,\n",
    "        exploration_final_eps=0.1,\n",
    "        #param_noise=True,\n",
    "        #policy_kwargs=dict(layers=[64])\n",
    "    )\n",
    "train(model_DQN, seed, 'DQN-Mlp')"
   ]
  },
  {
   "cell_type": "markdown",
   "id": "13853d81",
   "metadata": {},
   "source": [
    "```\n",
    "# X #\n",
    "model_HER = HER(\n",
    "    policy = 'MlpPolicy',\n",
    "    env = env,    \n",
    "    tensorboard_log=log_dir,    \n",
    "    verbose=0,\n",
    "    seed=seed,\n",
    "    device='cuda'\n",
    ")\n",
    "train(model_HER, seed, 'HER-Mlp')\n",
    "```"
   ]
  },
  {
   "cell_type": "code",
   "execution_count": 11,
   "id": "1699597b",
   "metadata": {},
   "outputs": [
    {
     "name": "stdout",
     "output_type": "stream",
     "text": [
      "2022-06-04 11:04:54.395863\n",
      "2022-06-04 11:25:22.561450\n",
      "mean_reward=-200.00 +/- 0.0\n"
     ]
    }
   ],
   "source": [
    "model_PPO_MLP = PPO(\n",
    "    policy = 'MlpPolicy',\n",
    "    env = env,    \n",
    "    tensorboard_log=log_dir,    \n",
    "    verbose=0,\n",
    "    seed=seed,\n",
    "    device='cuda'\n",
    ")\n",
    "train(model_PPO_MLP, seed, 'PPO-Mlp')"
   ]
  },
  {
   "cell_type": "markdown",
   "id": "82372de1",
   "metadata": {},
   "source": [
    "```\n",
    "# X #\n",
    "model_SAC = SAC(\n",
    "    policy = 'MlpPolicy',\n",
    "    env = env,    \n",
    "    tensorboard_log=log_dir,    \n",
    "    verbose=0,\n",
    "    seed=seed,\n",
    "    device='cuda'\n",
    ")\n",
    "train(model_SAC, seed, 'SAC-Mlp')\n",
    "```"
   ]
  },
  {
   "cell_type": "markdown",
   "id": "7a2a0869",
   "metadata": {},
   "source": [
    "```\n",
    "# X #\n",
    "model_TD3 = TD3(\n",
    "    policy = 'MlpPolicy',\n",
    "    env = env,    \n",
    "    tensorboard_log=log_dir,    \n",
    "    verbose=0,\n",
    "    seed=seed,\n",
    "    device='cuda'\n",
    ")\n",
    "train(model_TD3, seed, 'TD3-Mlp')\n",
    "```"
   ]
  }
 ],
 "metadata": {
  "kernelspec": {
   "display_name": "deep-rl-class",
   "language": "python",
   "name": "deep-rl-class"
  },
  "language_info": {
   "codemirror_mode": {
    "name": "ipython",
    "version": 3
   },
   "file_extension": ".py",
   "mimetype": "text/x-python",
   "name": "python",
   "nbconvert_exporter": "python",
   "pygments_lexer": "ipython3",
   "version": "3.9.12"
  }
 },
 "nbformat": 4,
 "nbformat_minor": 5
}
