{
 "cells": [
  {
   "cell_type": "code",
   "execution_count": 1,
   "id": "8dd23dd5",
   "metadata": {},
   "outputs": [
    {
     "name": "stderr",
     "output_type": "stream",
     "text": [
      "2022-05-14 00:58:33.647875: I tensorflow/stream_executor/platform/default/dso_loader.cc:49] Successfully opened dynamic library libcudart.so.10.1\n"
     ]
    }
   ],
   "source": [
    "from datetime import datetime as dt\n",
    "# Virtual display\n",
    "from pyvirtualdisplay import Display\n",
    "import gym\n",
    "from huggingface_sb3 import load_from_hub, package_to_hub, push_to_hub\n",
    "from huggingface_hub import notebook_login # To log to our Hugging Face account to be able to upload models to the Hub.\n",
    "from stable_baselines3 import A2C, DDPG, DQN, HER, PPO, SAC, TD3\n",
    "from stable_baselines3.common.evaluation import evaluate_policy\n",
    "from stable_baselines3.common.env_util import make_vec_env\n",
    "from stable_baselines3.common.env_util import make_vec_env\n",
    "import stable_baselines3\n",
    "import numpy as np"
   ]
  },
  {
   "cell_type": "code",
   "execution_count": 2,
   "id": "66938260",
   "metadata": {},
   "outputs": [],
   "source": [
    "def get_seed():\n",
    "    np.random.seed()\n",
    "    return np.random.randint(0, 2**32)"
   ]
  },
  {
   "cell_type": "code",
   "execution_count": 3,
   "id": "6c94db49",
   "metadata": {},
   "outputs": [],
   "source": [
    "def train(model, seed, name_postfix, steps):\n",
    "    print(dt.now())\n",
    "    model.learn(total_timesteps=steps, tb_log_name=\"first_run_\"+name_postfix)\n",
    "    print(dt.now())\n",
    "    # Save the model\n",
    "    model_name = \"ppo-LunarLander-v2_\"+name_postfix\n",
    "    model.save(model_name)\n",
    "\n",
    "    #@title\n",
    "    eval_env = gym.make(\"LunarLander-v2\")\n",
    "    mean_reward, std_reward = evaluate_policy(model, eval_env, n_eval_episodes=10, deterministic=True)\n",
    "    print(f\"mean_reward={mean_reward:.2f} +/- {std_reward}\")"
   ]
  },
  {
   "cell_type": "code",
   "execution_count": 4,
   "id": "442a30ea",
   "metadata": {},
   "outputs": [],
   "source": [
    "virtual_display = Display(visible=0, size=(1400, 900))\n",
    "virtual_display.start()\n",
    "\n",
    "env = gym.make('LunarLander-v2')\n",
    "stable_baselines3.common.utils.get_device()\n",
    "\n",
    "log_dir = \"./logs/\"\n",
    "seed = get_seed()"
   ]
  },
  {
   "cell_type": "code",
   "execution_count": 5,
   "id": "ac8c9081",
   "metadata": {},
   "outputs": [
    {
     "data": {
      "text/plain": [
       "16000000"
      ]
     },
     "execution_count": 5,
     "metadata": {},
     "output_type": "execute_result"
    }
   ],
   "source": [
    "steps_count = 500000*4*8\n",
    "steps_count"
   ]
  },
  {
   "cell_type": "code",
   "execution_count": 6,
   "id": "9ffecc99",
   "metadata": {},
   "outputs": [
    {
     "name": "stdout",
     "output_type": "stream",
     "text": [
      "2022-05-14 01:04:46.237999\n",
      "2022-05-14 07:05:01.458441\n"
     ]
    },
    {
     "name": "stderr",
     "output_type": "stream",
     "text": [
      "/home/alex/anaconda3/envs/deep-rl-class/lib/python3.9/site-packages/stable_baselines3/common/evaluation.py:65: UserWarning: Evaluation environment is not wrapped with a ``Monitor`` wrapper. This may result in reporting modified episode lengths and rewards, if other wrappers happen to modify these. Consider wrapping environment first with ``Monitor`` wrapper.\n",
      "  warnings.warn(\n"
     ]
    },
    {
     "name": "stdout",
     "output_type": "stream",
     "text": [
      "mean_reward=188.95 +/- 105.44862598400962\n"
     ]
    }
   ],
   "source": [
    "model = DQN(\n",
    "    policy = 'MlpPolicy',\n",
    "    env = env,\n",
    "    learning_rate=0.00008,\n",
    "    buffer_size=1000000,\n",
    "    learning_starts=50000,\n",
    "    batch_size=32,\n",
    "    tau=1.0,\n",
    "    gamma=0.99,\n",
    "    train_freq=4,\n",
    "    gradient_steps=1,\n",
    "    replay_buffer_class=None,\n",
    "    replay_buffer_kwargs=None,\n",
    "    optimize_memory_usage=False,\n",
    "    target_update_interval=10000,\n",
    "    exploration_fraction=0.1,\n",
    "    exploration_initial_eps=1.0,\n",
    "    exploration_final_eps=0.05,\n",
    "    max_grad_norm=10,\n",
    "    tensorboard_log=log_dir,\n",
    "    create_eval_env=False,\n",
    "    policy_kwargs=None,\n",
    "    verbose=0,\n",
    "    seed=seed,\n",
    "    device='cuda',\n",
    "    _init_setup_model=True\n",
    ")\n",
    "\n",
    "train(model, seed, 'DQN-Mlp', steps_count)"
   ]
  }
 ],
 "metadata": {
  "kernelspec": {
   "display_name": "deep-rl-class",
   "language": "python",
   "name": "deep-rl-class"
  },
  "language_info": {
   "codemirror_mode": {
    "name": "ipython",
    "version": 3
   },
   "file_extension": ".py",
   "mimetype": "text/x-python",
   "name": "python",
   "nbconvert_exporter": "python",
   "pygments_lexer": "ipython3",
   "version": "3.9.12"
  }
 },
 "nbformat": 4,
 "nbformat_minor": 5
}
